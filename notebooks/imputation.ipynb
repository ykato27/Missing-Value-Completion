{
 "cells": [
  {
   "cell_type": "markdown",
   "metadata": {
    "id": "OardhxriWkGA"
   },
   "source": [
    "#Missing Data Imputation\n",
    "1. Mean Imputation\n",
    "2. Mode imputation\n",
    "3. Model-based imputation-KNN\n",
    "4. Model-based imputation-regression\n",
    "5. Multiple imputation-mice\n",
    "6. Deep neural network imputation-datawig"
   ]
  },
  {
   "cell_type": "code",
   "execution_count": null,
   "metadata": {},
   "outputs": [],
   "source": [
    "%load_ext lab_black"
   ]
  },
  {
   "cell_type": "code",
   "execution_count": null,
   "metadata": {
    "id": "nsomK56YJmjX"
   },
   "outputs": [],
   "source": [
    "# importing libraries\n",
    "import numpy as np\n",
    "import pandas as pd\n",
    "import seaborn as sns\n",
    "import matplotlib.pyplot as plt\n",
    "\n",
    "from sklearn.linear_model import LinearRegression\n",
    "from sklearn.impute import SimpleImputer\n",
    "from impyute.imputation.cs import fast_knn, mice\n",
    "import datawig"
   ]
  },
  {
   "cell_type": "code",
   "execution_count": null,
   "metadata": {
    "colab": {
     "base_uri": "https://localhost:8080/",
     "height": 128
    },
    "id": "uebYAILSLg9R",
    "outputId": "fafe99aa-2e9a-437a-8a2c-31d0882f6ddb"
   },
   "outputs": [],
   "source": [
    "# loading data\n",
    "df = pd.read_csv(\"../data/imu.csv\")\n",
    "df.head(2)"
   ]
  },
  {
   "cell_type": "code",
   "execution_count": null,
   "metadata": {
    "colab": {
     "base_uri": "https://localhost:8080/",
     "height": 108
    },
    "id": "fFmXvkiWL0iX",
    "outputId": "850ff619-f054-4576-a72d-26bcb5cd5477"
   },
   "outputs": [],
   "source": [
    "data = df.loc[:, [\"Quaternion_1\", \"Quaternion_2\", \"Quaternion_3\", \"Quaternion_4\"]]\n",
    "data.head(2)"
   ]
  },
  {
   "cell_type": "markdown",
   "metadata": {
    "id": "m2JHK-4SMewW"
   },
   "source": [
    "## Mean Imputation"
   ]
  },
  {
   "cell_type": "code",
   "execution_count": null,
   "metadata": {
    "colab": {
     "base_uri": "https://localhost:8080/",
     "height": 108
    },
    "id": "ebT07RKLMKQT",
    "outputId": "e6ce7a0b-d7e1-44a5-afee-e42e2b69fffc"
   },
   "outputs": [],
   "source": [
    "impute_mean = SimpleImputer(strategy=\"mean\")\n",
    "impute_mean.fit(data)\n",
    "imputed_mean = impute_mean.transform(data)\n",
    "imputed_mean = pd.DataFrame(imputed_mean, columns=data.columns)\n",
    "imputed_mean.head(2)"
   ]
  },
  {
   "cell_type": "code",
   "execution_count": null,
   "metadata": {
    "colab": {
     "base_uri": "https://localhost:8080/",
     "height": 408
    },
    "id": "4IdCq937M_ez",
    "outputId": "aa7ccba8-e27b-434f-b5ec-38890409fb45"
   },
   "outputs": [],
   "source": [
    "sns.distplot(\n",
    "    data[\"Quaternion_2\"],\n",
    "    hist=True,\n",
    "    kde=True,\n",
    "    bins=90,\n",
    "    hist_kws={\"edgecolor\": \"black\"},\n",
    "    kde_kws={\"linewidth\": 4},\n",
    ")\n",
    "\n",
    "sns.distplot(\n",
    "    imputed_mean[\"Quaternion_2\"],\n",
    "    hist=True,\n",
    "    kde=True,\n",
    "    bins=90,\n",
    "    hist_kws={\"edgecolor\": \"black\"},\n",
    "    kde_kws={\"linewidth\": 4},\n",
    ")\n",
    "plt.legend(\n",
    "    [\"Original data\", \"Imputed Data\"], prop={\"size\": 16}, title=\"Mean imputation\"\n",
    ")\n",
    "plt.tight_layout(), plt.show()"
   ]
  },
  {
   "cell_type": "markdown",
   "metadata": {
    "id": "K2WMwfYTNV7Q"
   },
   "source": [
    "## Mode imputation"
   ]
  },
  {
   "cell_type": "code",
   "execution_count": null,
   "metadata": {
    "colab": {
     "base_uri": "https://localhost:8080/",
     "height": 108
    },
    "id": "IQsB8SmmNMrJ",
    "outputId": "a45296f5-6737-43b5-ce1f-6f50f7846c63"
   },
   "outputs": [],
   "source": [
    "impute_mode = SimpleImputer(strategy=\"most_frequent\")\n",
    "impute_mode.fit(data)\n",
    "imputed_mode = impute_mode.transform(data)\n",
    "imputed_mode = pd.DataFrame(imputed_mode, columns=data.columns)\n",
    "imputed_mode.head(2)"
   ]
  },
  {
   "cell_type": "code",
   "execution_count": null,
   "metadata": {
    "colab": {
     "base_uri": "https://localhost:8080/",
     "height": 408
    },
    "id": "7RNVoK9QNo3z",
    "outputId": "c0b20adc-f902-4841-ab5d-f3d1ba5873b1"
   },
   "outputs": [],
   "source": [
    "sns.distplot(\n",
    "    data[\"Quaternion_2\"],\n",
    "    hist=True,\n",
    "    kde=True,\n",
    "    bins=90,\n",
    "    hist_kws={\"edgecolor\": \"black\"},\n",
    "    kde_kws={\"linewidth\": 4},\n",
    ")\n",
    "\n",
    "sns.distplot(\n",
    "    imputed_mode[\"Quaternion_2\"],\n",
    "    hist=True,\n",
    "    kde=True,\n",
    "    bins=90,\n",
    "    hist_kws={\"edgecolor\": \"black\"},\n",
    "    kde_kws={\"linewidth\": 4},\n",
    ")\n",
    "plt.legend(\n",
    "    [\"Original data\", \"Imputed Data\"], prop={\"size\": 16}, title=\"Mode imputation\"\n",
    ")\n",
    "plt.tight_layout(), plt.show()"
   ]
  },
  {
   "cell_type": "markdown",
   "metadata": {
    "id": "8t2FZs-VOS0Y"
   },
   "source": [
    "## Model based imputation-KNN"
   ]
  },
  {
   "cell_type": "code",
   "execution_count": null,
   "metadata": {
    "colab": {
     "base_uri": "https://localhost:8080/",
     "height": 74
    },
    "id": "G_0_YJDyOSgR",
    "outputId": "1f20db2b-32fa-4793-f1b4-4d3c32f9be7c"
   },
   "outputs": [],
   "source": [
    "impute_knn = fast_knn(data.values, k=30)"
   ]
  },
  {
   "cell_type": "code",
   "execution_count": null,
   "metadata": {
    "colab": {
     "base_uri": "https://localhost:8080/",
     "height": 108
    },
    "id": "jLec8oEbQFPp",
    "outputId": "7aa73ab1-ac40-48f1-d491-fcf0fa1379b4"
   },
   "outputs": [],
   "source": [
    "imputed_knn = pd.DataFrame(impute_knn, columns=data.columns)\n",
    "imputed_knn.head(2)"
   ]
  },
  {
   "cell_type": "code",
   "execution_count": null,
   "metadata": {
    "colab": {
     "base_uri": "https://localhost:8080/",
     "height": 408
    },
    "id": "DRstJio4PJe4",
    "outputId": "9add303f-ea2f-44de-a6a0-ef96aef6132f"
   },
   "outputs": [],
   "source": [
    "sns.distplot(\n",
    "    data[\"Quaternion_2\"],\n",
    "    hist=True,\n",
    "    kde=True,\n",
    "    bins=90,\n",
    "    hist_kws={\"edgecolor\": \"black\"},\n",
    "    kde_kws={\"linewidth\": 4},\n",
    ")\n",
    "\n",
    "sns.distplot(\n",
    "    imputed_knn[\"Quaternion_2\"],\n",
    "    hist=True,\n",
    "    kde=True,\n",
    "    bins=90,\n",
    "    hist_kws={\"edgecolor\": \"black\"},\n",
    "    kde_kws={\"linewidth\": 4},\n",
    ")\n",
    "plt.legend([\"Original data\", \"Imputed Data\"], prop={\"size\": 16}, title=\"knn imputation\")\n",
    "plt.tight_layout(), plt.show()"
   ]
  },
  {
   "cell_type": "markdown",
   "metadata": {
    "id": "avhW8MsjQ1-L"
   },
   "source": [
    "## Regression imputation"
   ]
  },
  {
   "cell_type": "code",
   "execution_count": null,
   "metadata": {
    "id": "Uj4vANZ2Qyd2"
   },
   "outputs": [],
   "source": [
    "# creating training and test data to apply regression model\n",
    "train = data.dropna(axis=0, how=\"any\")\n",
    "test = data[\n",
    "    (data[\"Quaternion_1\"].notnull())\n",
    "    & (data[\"Quaternion_3\"].notnull())\n",
    "    & (data[\"Quaternion_4\"].notnull())\n",
    "    & (data[\"Quaternion_2\"].isnull())\n",
    "]\n",
    "x_train = train.drop(\"Quaternion_2\", axis=1)\n",
    "y_train = train[\"Quaternion_2\"]\n",
    "x_test = test.drop(\"Quaternion_2\", axis=1)\n",
    "model = LinearRegression()\n",
    "model.fit(x_train, y_train)\n",
    "y_pred = model.predict(x_test)"
   ]
  },
  {
   "cell_type": "code",
   "execution_count": null,
   "metadata": {
    "colab": {
     "base_uri": "https://localhost:8080/",
     "height": 408
    },
    "id": "Ed_LlapSTl4A",
    "outputId": "878eb7d8-de9f-4d49-8a87-5c86755ebe34"
   },
   "outputs": [],
   "source": [
    "sns.distplot(\n",
    "    data[\"Quaternion_2\"],\n",
    "    hist=True,\n",
    "    kde=True,\n",
    "    bins=90,\n",
    "    hist_kws={\"edgecolor\": \"black\"},\n",
    "    kde_kws={\"linewidth\": 4},\n",
    ")\n",
    "\n",
    "sns.distplot(\n",
    "    y_pred,\n",
    "    hist=True,\n",
    "    kde=True,\n",
    "    bins=90,\n",
    "    hist_kws={\"edgecolor\": \"black\"},\n",
    "    kde_kws={\"linewidth\": 4},\n",
    ")\n",
    "plt.legend(\n",
    "    [\"Original data\", \"Imputed Data\"], prop={\"size\": 16}, title=\"regression imputation\"\n",
    ")\n",
    "plt.tight_layout(), plt.show()"
   ]
  },
  {
   "cell_type": "markdown",
   "metadata": {
    "id": "31GoXgItWU9b"
   },
   "source": [
    "## Multiple imputation-mice"
   ]
  },
  {
   "cell_type": "code",
   "execution_count": null,
   "metadata": {
    "colab": {
     "base_uri": "https://localhost:8080/",
     "height": 145
    },
    "id": "dp34ECTTWb15",
    "outputId": "fa194e3b-3a85-4fc2-9ed4-97e3b7ce4508"
   },
   "outputs": [],
   "source": [
    "impute_mice = mice(data.values)\n",
    "impute_mice"
   ]
  },
  {
   "cell_type": "code",
   "execution_count": null,
   "metadata": {
    "colab": {
     "base_uri": "https://localhost:8080/",
     "height": 408
    },
    "id": "lGnzXnl-YYQs",
    "outputId": "04dc0a6b-534f-450b-c60b-112231d2b3b0"
   },
   "outputs": [],
   "source": [
    "sns.distplot(data['Quaternion_2'], hist=True, \n",
    "             kde=True, bins=90, hist_kws={'edgecolor':'black'},\n",
    "             kde_kws={'linewidth':4})\n",
    "\n",
    "sns.distplot(impute_mice[:,1], hist=True, \n",
    "             kde=True, bins=90, hist_kws={'edgecolor':'black'},\n",
    "             kde_kws={'linewidth':4})\n",
    "plt.legend(['Original data','Imputed Data'], prop={'size': 16}, title = 'mice')\n",
    "plt.tight_layout(), plt.show()"
   ]
  },
  {
   "cell_type": "markdown",
   "metadata": {
    "id": "uqFSc2PET-T3"
   },
   "source": [
    "## Deep learning method-datawig"
   ]
  },
  {
   "cell_type": "code",
   "execution_count": null,
   "metadata": {
    "colab": {
     "base_uri": "https://localhost:8080/",
     "height": 1000
    },
    "id": "KT2m3RkFT1MF",
    "outputId": "4a26d178-7a9d-470d-ba50-925e21cbdd9f"
   },
   "outputs": [],
   "source": [
    "input_cols = ['Quaternion_1', 'Quaternion_3', 'Quaternion_4']\n",
    "output_cols = 'Quaternion_2'\n",
    "\n",
    "model=datawig.SimpleImputer(\n",
    "    input_columns=input_cols,\n",
    "    output_column=output_cols,\n",
    "    output_path = 'datawig_model'  #stores model data and metrics\n",
    ")\n",
    "model.fit(train_df=train,num_epochs=50)\n",
    "y_pred=model.predict(test)"
   ]
  },
  {
   "cell_type": "code",
   "execution_count": null,
   "metadata": {
    "colab": {
     "base_uri": "https://localhost:8080/",
     "height": 407
    },
    "id": "TDzs679AWABZ",
    "outputId": "908f359d-fd74-410b-9579-cc100b9a55a9"
   },
   "outputs": [],
   "source": [
    "y_pred"
   ]
  },
  {
   "cell_type": "code",
   "execution_count": null,
   "metadata": {
    "colab": {
     "base_uri": "https://localhost:8080/",
     "height": 408
    },
    "id": "4GnO1gypUO5S",
    "outputId": "e22f024c-49f2-4073-fe0c-bfbe73ca1bb9"
   },
   "outputs": [],
   "source": [
    "sns.distplot(\n",
    "    data['Quaternion_2'], hist=True, \n",
    "    kde=True, bins=90, hist_kws={'edgecolor':'black'},\n",
    "    kde_kws={'linewidth':4}\n",
    ")\n",
    "\n",
    "sns.distplot(\n",
    "    y_pred['Quaternion_2_imputed'], hist=True, \n",
    "    kde=True, bins=90, hist_kws={'edgecolor':'black'},\n",
    "    kde_kws={'linewidth':4}\n",
    ")\n",
    "\n",
    "plt.legend(['Original data','Imputed Data'], prop={'size': 16}, title = 'datawig')\n",
    "plt.tight_layout(), plt.show()"
   ]
  }
 ],
 "metadata": {
  "accelerator": "GPU",
  "colab": {
   "collapsed_sections": [],
   "name": "imputation.ipynb",
   "provenance": [],
   "toc_visible": true
  },
  "kernelspec": {
   "display_name": "Python 3 (ipykernel)",
   "language": "python",
   "name": "python3"
  },
  "language_info": {
   "codemirror_mode": {
    "name": "ipython",
    "version": 3
   },
   "file_extension": ".py",
   "mimetype": "text/x-python",
   "name": "python",
   "nbconvert_exporter": "python",
   "pygments_lexer": "ipython3",
   "version": "3.9.6"
  }
 },
 "nbformat": 4,
 "nbformat_minor": 4
}
